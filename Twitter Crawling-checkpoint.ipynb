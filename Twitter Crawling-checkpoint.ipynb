{
 "cells": [
  {
   "cell_type": "markdown",
   "metadata": {},
   "source": [
    "## GetOldTweet3 패키지를 활용한 Twitter Crawling"
   ]
  },
  {
   "cell_type": "code",
   "execution_count": 1,
   "metadata": {},
   "outputs": [
    {
     "name": "stdout",
     "output_type": "stream",
     "text": [
      "Collecting GetOldTweets3\n",
      "  Downloading https://files.pythonhosted.org/packages/ed/f4/a00c2a7c90801abc875325bb5416ce9090ac86d06a00cc887131bd73ba45/GetOldTweets3-0.0.11-py3-none-any.whl\n",
      "Collecting pyquery>=1.2.10 (from GetOldTweets3)\n",
      "  Downloading https://files.pythonhosted.org/packages/78/43/95d42e386c61cb639d1a0b94f0c0b9f0b7d6b981ad3c043a836c8b5bc68b/pyquery-1.4.1-py2.py3-none-any.whl\n",
      "Requirement already satisfied: lxml>=3.5.0 in c:\\users\\user\\anaconda3\\lib\\site-packages (from GetOldTweets3) (4.4.1)\n",
      "Collecting cssselect>0.7.9 (from pyquery>=1.2.10->GetOldTweets3)\n",
      "  Downloading https://files.pythonhosted.org/packages/3b/d4/3b5c17f00cce85b9a1e6f91096e1cc8e8ede2e1be8e96b87ce1ed09e92c5/cssselect-1.1.0-py2.py3-none-any.whl\n",
      "Installing collected packages: cssselect, pyquery, GetOldTweets3\n",
      "Successfully installed GetOldTweets3-0.0.11 cssselect-1.1.0 pyquery-1.4.1\n"
     ]
    }
   ],
   "source": [
    "try:\n",
    "    import GetOldTweets3 as got\n",
    "except:\n",
    "    !pip install GetOldTweets3\n",
    "    import GetOldTweets3 as got"
   ]
  },
  {
   "cell_type": "code",
   "execution_count": 2,
   "metadata": {},
   "outputs": [],
   "source": [
    "try:\n",
    "    from bs4 import BeautifulSoup\n",
    "except:\n",
    "    !pip install bs4\n",
    "    from bs4 import BeautifulSoup"
   ]
  },
  {
   "cell_type": "markdown",
   "metadata": {},
   "source": [
    "## 수집 기간 정의하기"
   ]
  },
  {
   "cell_type": "code",
   "execution_count": 38,
   "metadata": {},
   "outputs": [
    {
     "name": "stdout",
     "output_type": "stream",
     "text": [
      "=== 설정된 트윗 수집 기간은 2020-01-01 에서 2020-04-20 까지 입니다 ===\n",
      "=== 총 111일 간의 데이터 수집 ===\n"
     ]
    }
   ],
   "source": [
    "# 가져올 범위를 정의\n",
    "# 예제 : 2019-04-21 ~ 2019-04-24\n",
    "\n",
    "import datetime\n",
    "\n",
    "days_range = []\n",
    "\n",
    "start = datetime.datetime.strptime(\"2020-01-01\", \"%Y-%m-%d\")\n",
    "end = datetime.datetime.strptime(\"2020-04-21\", \"%Y-%m-%d\")\n",
    "date_generated = [start + datetime.timedelta(days=x) for x in range(0, (end-start).days)]\n",
    "\n",
    "for date in date_generated:\n",
    "    days_range.append(date.strftime(\"%Y-%m-%d\"))\n",
    "\n",
    "print(\"=== 설정된 트윗 수집 기간은 {} 에서 {} 까지 입니다 ===\".format(days_range[0], days_range[-1]))\n",
    "print(\"=== 총 {}일 간의 데이터 수집 ===\".format(len(days_range)))"
   ]
  },
  {
   "cell_type": "markdown",
   "metadata": {},
   "source": [
    "## 트윗 수집하기"
   ]
  },
  {
   "cell_type": "code",
   "execution_count": 44,
   "metadata": {},
   "outputs": [
    {
     "name": "stdout",
     "output_type": "stream",
     "text": [
      "Collecting data start.. from 2020-01-01 to 2020-04-20\n",
      "Collecting data end.. 0.39 Minutes\n",
      "=== Total num of tweets is 211 ===\n"
     ]
    }
   ],
   "source": [
    "# 특정 검색어가 포함된 트윗 검색하기 (quary search)\n",
    "# 검색어 : 어벤져스, 스포\n",
    "\n",
    "import time\n",
    "\n",
    "# 수집 기간 맞추기\n",
    "start_date = days_range[0]\n",
    "end_date = (datetime.datetime.strptime(days_range[-1], \"%Y-%m-%d\") \n",
    "            + datetime.timedelta(days=1)).strftime(\"%Y-%m-%d\") # setUntil이 끝을 포함하지 않으므로, day + 1\n",
    "\n",
    "# 트윗 수집 기준 정의\n",
    "tweetCriteria = got.manager.TweetCriteria().setQuerySearch('상해보험')\\\n",
    "                                           .setSince(start_date)\\\n",
    "                                           .setUntil(end_date)\\\n",
    "                                           .setMaxTweets(-1)\n",
    "\n",
    "# 수집 with GetOldTweet3\n",
    "print(\"Collecting data start.. from {} to {}\".format(days_range[0], days_range[-1]))\n",
    "start_time = time.time()\n",
    "\n",
    "tweet = got.manager.TweetManager.getTweets(tweetCriteria)\n",
    "\n",
    "print(\"Collecting data end.. {0:0.2f} Minutes\".format((time.time() - start_time)/60))\n",
    "print(\"=== Total num of tweets is {} ===\".format(len(tweet)))"
   ]
  },
  {
   "cell_type": "markdown",
   "metadata": {},
   "source": [
    "## 변수 저장하기\n"
   ]
  },
  {
   "cell_type": "code",
   "execution_count": 45,
   "metadata": {},
   "outputs": [],
   "source": [
    "import requests"
   ]
  },
  {
   "cell_type": "code",
   "execution_count": 46,
   "metadata": {},
   "outputs": [
    {
     "data": {
      "application/vnd.jupyter.widget-view+json": {
       "model_id": "1212b9b831df4f5abbe3833c9a353beb",
       "version_major": 2,
       "version_minor": 0
      },
      "text/plain": [
       "HBox(children=(IntProgress(value=0, max=211), HTML(value='')))"
      ]
     },
     "metadata": {},
     "output_type": "display_data"
    },
    {
     "name": "stdout",
     "output_type": "stream",
     "text": [
      "\n"
     ]
    }
   ],
   "source": [
    "# 원하는 변수 골라서 저장하기\n",
    "\n",
    "from random import uniform\n",
    "from tqdm import tqdm_notebook\n",
    "\n",
    "# initialize\n",
    "tweet_list = []\n",
    "\n",
    "def get_bs_obj(url):\n",
    "    result = requests.get(url)\n",
    "    bs_obj = BeautifulSoup(result.content, \"html.parser\")\n",
    "    \n",
    "    return bs_obj\n",
    "\n",
    "for index in tqdm_notebook(tweet):\n",
    "    \n",
    "    # 메타데이터 목록 \n",
    "    username = index.username\n",
    "    link = index.permalink \n",
    "    content = index.text\n",
    "    tweet_date = index.date.strftime(\"%Y-%m-%d\")\n",
    "    tweet_time = index.date.strftime(\"%H:%M:%S\")\n",
    "    retweets = index.retweets\n",
    "    favorites = index.favorites\n",
    "    \n",
    "    # === 유저 정보 수집 시작 ===\n",
    "    try:\n",
    "        personal_link = 'https://twitter.com/' + username\n",
    "        bs_obj = get_bs_obj(personal_link)\n",
    "        uls = bs_obj.find(\"ul\", {\"class\": \"ProfileNav-list\"}).find_all(\"li\")\n",
    "        div = bs_obj.find(\"div\", {\"class\": \"ProfileHeaderCard-joinDate\"}).find_all(\"span\")[1][\"title\"]\n",
    "\n",
    "\n",
    "        # 가입일, 전체 트윗 수, 팔로잉 수, 팔로워 수\n",
    "        joined_date = div.split('-')[1].strip()\n",
    "        num_tweets = uls[0].find(\"span\", {\"class\": \"ProfileNav-value\"}).text.strip()\n",
    "        num_following = uls[1].find(\"span\", {\"class\": \"ProfileNav-value\"}).text.strip()\n",
    "        num_follower = uls[2].find(\"span\", {\"class\": \"ProfileNav-value\"}).text.strip()\n",
    "    \n",
    "    except AttributeError:\n",
    "        print(\"=== Attribute error occurs at {} ===\".format(link))\n",
    "        print(\"link : {}\".format(personal_link))   \n",
    "        pass\n",
    "     \n",
    "    # 결과 합치기\n",
    "    info_list = [tweet_date, tweet_time, username, content, link, retweets, favorites, \n",
    "                 joined_date, num_tweets, num_following, num_follower]\n",
    "    tweet_list.append(info_list)\n",
    "    \n",
    "    # 휴식 \n",
    "    time.sleep(uniform(1,2))"
   ]
  },
  {
   "cell_type": "markdown",
   "metadata": {},
   "source": [
    "## 파일 저장 후 확인"
   ]
  },
  {
   "cell_type": "code",
   "execution_count": 48,
   "metadata": {},
   "outputs": [
    {
     "name": "stdout",
     "output_type": "stream",
     "text": [
      "=== 211 tweets are successfully saved ===\n"
     ]
    }
   ],
   "source": [
    "# 파일 저장하기\n",
    "\n",
    "import pandas as pd\n",
    "\n",
    "twitter_df = pd.DataFrame(tweet_list, \n",
    "                          columns = [\"date\", \"time\", \"user_name\", \"text\", \"link\", \"retweet_counts\", \"favorite_counts\",\n",
    "                                    \"user_created\", \"user_tweets\", \"user_followings\", \"user_followers\"])\n",
    "\n",
    "# csv 파일 만들기\n",
    "twitter_df.to_csv(\"sample_twitter_data_{}_to_{}.csv\".format(days_range[0], days_range[-1]), index=False)\n",
    "print(\"=== {} tweets are successfully saved ===\".format(len(tweet_list)))"
   ]
  },
  {
   "cell_type": "code",
   "execution_count": 49,
   "metadata": {},
   "outputs": [
    {
     "data": {
      "text/html": [
       "<div>\n",
       "<style scoped>\n",
       "    .dataframe tbody tr th:only-of-type {\n",
       "        vertical-align: middle;\n",
       "    }\n",
       "\n",
       "    .dataframe tbody tr th {\n",
       "        vertical-align: top;\n",
       "    }\n",
       "\n",
       "    .dataframe thead th {\n",
       "        text-align: right;\n",
       "    }\n",
       "</style>\n",
       "<table border=\"1\" class=\"dataframe\">\n",
       "  <thead>\n",
       "    <tr style=\"text-align: right;\">\n",
       "      <th></th>\n",
       "      <th>date</th>\n",
       "      <th>time</th>\n",
       "      <th>user_name</th>\n",
       "      <th>text</th>\n",
       "      <th>link</th>\n",
       "      <th>retweet_counts</th>\n",
       "      <th>favorite_counts</th>\n",
       "      <th>user_created</th>\n",
       "      <th>user_tweets</th>\n",
       "      <th>user_followings</th>\n",
       "      <th>user_followers</th>\n",
       "    </tr>\n",
       "  </thead>\n",
       "  <tbody>\n",
       "    <tr>\n",
       "      <td>0</td>\n",
       "      <td>2020-04-20</td>\n",
       "      <td>23:53:40</td>\n",
       "      <td>BreakNewsCom</td>\n",
       "      <td>영암군, 군복무 청년을 위한 상해보험 가입 추진 / 브레이크뉴스 https://ww...</td>\n",
       "      <td>https://twitter.com/BreakNewsCom/status/125238...</td>\n",
       "      <td>0</td>\n",
       "      <td>0</td>\n",
       "      <td>2010년 4월 14일</td>\n",
       "      <td>477,228</td>\n",
       "      <td>6,177</td>\n",
       "      <td>5,676</td>\n",
       "    </tr>\n",
       "    <tr>\n",
       "      <td>1</td>\n",
       "      <td>2020-04-20</td>\n",
       "      <td>09:00:48</td>\n",
       "      <td>Ccm8230</td>\n",
       "      <td>영암군, 군복무 청년을 위한 상해보험 가입 추진</td>\n",
       "      <td>https://twitter.com/Ccm8230/status/12521602746...</td>\n",
       "      <td>0</td>\n",
       "      <td>0</td>\n",
       "      <td>2012년 4월 9일</td>\n",
       "      <td>20,460</td>\n",
       "      <td>1,870</td>\n",
       "      <td>1,006</td>\n",
       "    </tr>\n",
       "    <tr>\n",
       "      <td>2</td>\n",
       "      <td>2020-04-20</td>\n",
       "      <td>05:30:11</td>\n",
       "      <td>kingcert</td>\n",
       "      <td>영암군, 군복무 청년을 위한 ‘상해보험 가입’ 추진</td>\n",
       "      <td>https://twitter.com/kingcert/status/1252107271...</td>\n",
       "      <td>0</td>\n",
       "      <td>0</td>\n",
       "      <td>2012년 4월 1일</td>\n",
       "      <td>12,666</td>\n",
       "      <td>76</td>\n",
       "      <td>54</td>\n",
       "    </tr>\n",
       "    <tr>\n",
       "      <td>3</td>\n",
       "      <td>2020-04-19</td>\n",
       "      <td>16:14:34</td>\n",
       "      <td>ipopou</td>\n",
       "      <td>상해보험에서 태아의 피보험적격 인정(2016다211224) http://ipopou...</td>\n",
       "      <td>https://twitter.com/ipopou/status/125190704924...</td>\n",
       "      <td>0</td>\n",
       "      <td>0</td>\n",
       "      <td>2009년 6월 20일</td>\n",
       "      <td>3,236</td>\n",
       "      <td>269</td>\n",
       "      <td>199</td>\n",
       "    </tr>\n",
       "    <tr>\n",
       "      <td>4</td>\n",
       "      <td>2020-04-18</td>\n",
       "      <td>09:01:57</td>\n",
       "      <td>an2ki_ne</td>\n",
       "      <td>덕분에 노말보스깼다 정령들 로드에게 상해보험 신청하면 승인해줘야됨</td>\n",
       "      <td>https://twitter.com/an2ki_ne/status/1251435789...</td>\n",
       "      <td>0</td>\n",
       "      <td>0</td>\n",
       "      <td>2017년 5월 17일</td>\n",
       "      <td>325</td>\n",
       "      <td>9</td>\n",
       "      <td>3</td>\n",
       "    </tr>\n",
       "    <tr>\n",
       "      <td>5</td>\n",
       "      <td>2020-04-18</td>\n",
       "      <td>01:08:10</td>\n",
       "      <td>Jaeho_bot</td>\n",
       "      <td>[어쨌든 상해보험에 들어놔서 잘 됐지 뭐야]</td>\n",
       "      <td>https://twitter.com/Jaeho_bot/status/125131655...</td>\n",
       "      <td>0</td>\n",
       "      <td>0</td>\n",
       "      <td>2013년 8월 2일</td>\n",
       "      <td>43,185</td>\n",
       "      <td>60</td>\n",
       "      <td>87</td>\n",
       "    </tr>\n",
       "    <tr>\n",
       "      <td>6</td>\n",
       "      <td>2020-04-17</td>\n",
       "      <td>16:59:20</td>\n",
       "      <td>1982_0516JJH</td>\n",
       "      <td>상해보험이요.</td>\n",
       "      <td>https://twitter.com/1982_0516JJH/status/125119...</td>\n",
       "      <td>0</td>\n",
       "      <td>0</td>\n",
       "      <td>2020년 4월 17일</td>\n",
       "      <td>1,019</td>\n",
       "      <td>30</td>\n",
       "      <td>32</td>\n",
       "    </tr>\n",
       "    <tr>\n",
       "      <td>7</td>\n",
       "      <td>2020-04-17</td>\n",
       "      <td>14:52:45</td>\n",
       "      <td>P1NKD0CT0R</td>\n",
       "      <td>그리고 이거, 상해보험 처리 할 거야. 너희 상관한테 진정서도 넣어 주마. 뒷생각 ...</td>\n",
       "      <td>https://twitter.com/P1NKD0CT0R/status/12511616...</td>\n",
       "      <td>0</td>\n",
       "      <td>0</td>\n",
       "      <td>2016년 4월 23일</td>\n",
       "      <td>48</td>\n",
       "      <td>2</td>\n",
       "      <td>3</td>\n",
       "    </tr>\n",
       "    <tr>\n",
       "      <td>8</td>\n",
       "      <td>2020-04-17</td>\n",
       "      <td>11:26:00</td>\n",
       "      <td>summer95825</td>\n",
       "      <td>저 생명보험 상해보험 종신보험 다 잇어요ㄷㄷㄷㄷㄷ저도 데....데려가주세욥ㄷㄷㄷㄷㄷ...</td>\n",
       "      <td>https://twitter.com/summer95825/status/1251109...</td>\n",
       "      <td>0</td>\n",
       "      <td>0</td>\n",
       "      <td>2019년 2월 6일</td>\n",
       "      <td>13,539</td>\n",
       "      <td>87</td>\n",
       "      <td>246</td>\n",
       "    </tr>\n",
       "    <tr>\n",
       "      <td>9</td>\n",
       "      <td>2020-04-17</td>\n",
       "      <td>09:20:32</td>\n",
       "      <td>khsjjil_nana00</td>\n",
       "      <td>어차피 상해 보험이라 재청구가 가능 할 수도 있어요. 보험감독원이나 소보원에 문의 ...</td>\n",
       "      <td>https://twitter.com/khsjjil_nana00/status/1251...</td>\n",
       "      <td>0</td>\n",
       "      <td>0</td>\n",
       "      <td>2011년 11월 24일</td>\n",
       "      <td>58,652</td>\n",
       "      <td>1,359</td>\n",
       "      <td>1,148</td>\n",
       "    </tr>\n",
       "  </tbody>\n",
       "</table>\n",
       "</div>"
      ],
      "text/plain": [
       "         date      time       user_name  \\\n",
       "0  2020-04-20  23:53:40    BreakNewsCom   \n",
       "1  2020-04-20  09:00:48         Ccm8230   \n",
       "2  2020-04-20  05:30:11        kingcert   \n",
       "3  2020-04-19  16:14:34          ipopou   \n",
       "4  2020-04-18  09:01:57        an2ki_ne   \n",
       "5  2020-04-18  01:08:10       Jaeho_bot   \n",
       "6  2020-04-17  16:59:20    1982_0516JJH   \n",
       "7  2020-04-17  14:52:45      P1NKD0CT0R   \n",
       "8  2020-04-17  11:26:00     summer95825   \n",
       "9  2020-04-17  09:20:32  khsjjil_nana00   \n",
       "\n",
       "                                                text  \\\n",
       "0  영암군, 군복무 청년을 위한 상해보험 가입 추진 / 브레이크뉴스 https://ww...   \n",
       "1                        영암군, 군복무 청년을 위한 상해보험 가입 추진    \n",
       "2                      영암군, 군복무 청년을 위한 ‘상해보험 가입’ 추진    \n",
       "3  상해보험에서 태아의 피보험적격 인정(2016다211224) http://ipopou...   \n",
       "4              덕분에 노말보스깼다 정령들 로드에게 상해보험 신청하면 승인해줘야됨    \n",
       "5                           [어쨌든 상해보험에 들어놔서 잘 됐지 뭐야]   \n",
       "6                                            상해보험이요.   \n",
       "7  그리고 이거, 상해보험 처리 할 거야. 너희 상관한테 진정서도 넣어 주마. 뒷생각 ...   \n",
       "8  저 생명보험 상해보험 종신보험 다 잇어요ㄷㄷㄷㄷㄷ저도 데....데려가주세욥ㄷㄷㄷㄷㄷ...   \n",
       "9  어차피 상해 보험이라 재청구가 가능 할 수도 있어요. 보험감독원이나 소보원에 문의 ...   \n",
       "\n",
       "                                                link  retweet_counts  \\\n",
       "0  https://twitter.com/BreakNewsCom/status/125238...               0   \n",
       "1  https://twitter.com/Ccm8230/status/12521602746...               0   \n",
       "2  https://twitter.com/kingcert/status/1252107271...               0   \n",
       "3  https://twitter.com/ipopou/status/125190704924...               0   \n",
       "4  https://twitter.com/an2ki_ne/status/1251435789...               0   \n",
       "5  https://twitter.com/Jaeho_bot/status/125131655...               0   \n",
       "6  https://twitter.com/1982_0516JJH/status/125119...               0   \n",
       "7  https://twitter.com/P1NKD0CT0R/status/12511616...               0   \n",
       "8  https://twitter.com/summer95825/status/1251109...               0   \n",
       "9  https://twitter.com/khsjjil_nana00/status/1251...               0   \n",
       "\n",
       "   favorite_counts   user_created user_tweets user_followings user_followers  \n",
       "0                0   2010년 4월 14일     477,228           6,177          5,676  \n",
       "1                0    2012년 4월 9일      20,460           1,870          1,006  \n",
       "2                0    2012년 4월 1일      12,666              76             54  \n",
       "3                0   2009년 6월 20일       3,236             269            199  \n",
       "4                0   2017년 5월 17일         325               9              3  \n",
       "5                0    2013년 8월 2일      43,185              60             87  \n",
       "6                0   2020년 4월 17일       1,019              30             32  \n",
       "7                0   2016년 4월 23일          48               2              3  \n",
       "8                0    2019년 2월 6일      13,539              87            246  \n",
       "9                0  2011년 11월 24일      58,652           1,359          1,148  "
      ]
     },
     "execution_count": 49,
     "metadata": {},
     "output_type": "execute_result"
    }
   ],
   "source": [
    "# 파일 확인하기\n",
    "\n",
    "df_tweet = pd.read_csv('sample_twitter_data_{}_to_{}.csv'.format(days_range[0], days_range[-1]))\n",
    "df_tweet.head(10) # 위에서 10개만 출력"
   ]
  },
  {
   "cell_type": "code",
   "execution_count": 52,
   "metadata": {},
   "outputs": [],
   "source": [
    "df_tweet.to_csv('C:\\\\Users\\\\User\\\\Desktop\\\\7.Data Analytics\\\\df_tweet.csv',encoding='utf-8-sig')"
   ]
  },
  {
   "cell_type": "code",
   "execution_count": null,
   "metadata": {},
   "outputs": [],
   "source": []
  }
 ],
 "metadata": {
  "kernelspec": {
   "display_name": "Python 3",
   "language": "python",
   "name": "python3"
  },
  "language_info": {
   "codemirror_mode": {
    "name": "ipython",
    "version": 3
   },
   "file_extension": ".py",
   "mimetype": "text/x-python",
   "name": "python",
   "nbconvert_exporter": "python",
   "pygments_lexer": "ipython3",
   "version": "3.7.4"
  }
 },
 "nbformat": 4,
 "nbformat_minor": 2
}
